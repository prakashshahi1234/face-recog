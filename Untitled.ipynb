{
 "cells": [
  {
   "cell_type": "code",
   "execution_count": 4,
   "id": "3a134599",
   "metadata": {},
   "outputs": [],
   "source": [
    "import take_picture \n",
    "import createSet\n",
    "import train\n",
    "import check\n"
   ]
  },
  {
   "cell_type": "code",
   "execution_count": null,
   "id": "632da33f",
   "metadata": {},
   "outputs": [],
   "source": [
    "take_picture.start()"
   ]
  },
  {
   "cell_type": "code",
   "execution_count": null,
   "id": "f4d58278",
   "metadata": {},
   "outputs": [],
   "source": [
    "createSet.start()"
   ]
  },
  {
   "cell_type": "code",
   "execution_count": null,
   "id": "ef5c5f65",
   "metadata": {},
   "outputs": [],
   "source": [
    "train.start()"
   ]
  },
  {
   "cell_type": "code",
   "execution_count": null,
   "id": "2d57eb10",
   "metadata": {},
   "outputs": [],
   "source": [
    "check.start()"
   ]
  },
  {
   "cell_type": "code",
   "execution_count": null,
   "id": "deacd6a5",
   "metadata": {},
   "outputs": [],
   "source": []
  }
 ],
 "metadata": {
  "kernelspec": {
   "display_name": "Python 3 (ipykernel)",
   "language": "python",
   "name": "python3"
  },
  "language_info": {
   "codemirror_mode": {
    "name": "ipython",
    "version": 3
   },
   "file_extension": ".py",
   "mimetype": "text/x-python",
   "name": "python",
   "nbconvert_exporter": "python",
   "pygments_lexer": "ipython3",
   "version": "3.11.5"
  }
 },
 "nbformat": 4,
 "nbformat_minor": 5
}
